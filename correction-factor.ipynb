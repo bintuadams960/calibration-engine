{
 "cells": [
  {
   "cell_type": "code",
   "execution_count": 2,
   "metadata": {},
   "outputs": [],
   "source": [
    "import warnings\n",
    "warnings.filterwarnings('ignore')\n",
    "from matplotlib import dates as mpl_dates\n",
    "from datetime import datetime, timedelta\n",
    "import numpy as np\n",
    "\n",
    "import pandas as pd\n",
    "import matplotlib.pyplot as plt\n",
    "# import seaborn as sns\n",
    "from datetime import datetime\n",
    "import pycaret"
   ]
  },
  {
   "cell_type": "code",
   "execution_count": 2,
   "metadata": {},
   "outputs": [],
   "source": [
    "from pycaret.regression import *"
   ]
  },
  {
   "cell_type": "code",
   "execution_count": 3,
   "metadata": {},
   "outputs": [
    {
     "data": {
      "text/html": [
       "<div>\n",
       "<style scoped>\n",
       "    .dataframe tbody tr th:only-of-type {\n",
       "        vertical-align: middle;\n",
       "    }\n",
       "\n",
       "    .dataframe tbody tr th {\n",
       "        vertical-align: top;\n",
       "    }\n",
       "\n",
       "    .dataframe thead th {\n",
       "        text-align: right;\n",
       "    }\n",
       "</style>\n",
       "<table border=\"1\" class=\"dataframe\">\n",
       "  <thead>\n",
       "    <tr style=\"text-align: right;\">\n",
       "      <th></th>\n",
       "      <th>DataDate</th>\n",
       "      <th>pm2_5_Ref</th>\n",
       "      <th>hum</th>\n",
       "      <th>temp</th>\n",
       "      <th>pm2_5</th>\n",
       "    </tr>\n",
       "  </thead>\n",
       "  <tbody>\n",
       "    <tr>\n",
       "      <th>0</th>\n",
       "      <td>01/10/2023 17:54</td>\n",
       "      <td>7.276371</td>\n",
       "      <td>100.5</td>\n",
       "      <td>26.80</td>\n",
       "      <td>4.0</td>\n",
       "    </tr>\n",
       "    <tr>\n",
       "      <th>1</th>\n",
       "      <td>01/10/2023 17:55</td>\n",
       "      <td>7.128142</td>\n",
       "      <td>100.5</td>\n",
       "      <td>26.79</td>\n",
       "      <td>4.0</td>\n",
       "    </tr>\n",
       "    <tr>\n",
       "      <th>2</th>\n",
       "      <td>01/10/2023 17:56</td>\n",
       "      <td>7.118874</td>\n",
       "      <td>100.5</td>\n",
       "      <td>26.79</td>\n",
       "      <td>4.0</td>\n",
       "    </tr>\n",
       "    <tr>\n",
       "      <th>3</th>\n",
       "      <td>01/10/2023 17:57</td>\n",
       "      <td>7.077153</td>\n",
       "      <td>100.5</td>\n",
       "      <td>26.79</td>\n",
       "      <td>2.0</td>\n",
       "    </tr>\n",
       "    <tr>\n",
       "      <th>4</th>\n",
       "      <td>01/10/2023 17:58</td>\n",
       "      <td>7.055617</td>\n",
       "      <td>100.5</td>\n",
       "      <td>26.77</td>\n",
       "      <td>4.0</td>\n",
       "    </tr>\n",
       "    <tr>\n",
       "      <th>...</th>\n",
       "      <td>...</td>\n",
       "      <td>...</td>\n",
       "      <td>...</td>\n",
       "      <td>...</td>\n",
       "      <td>...</td>\n",
       "    </tr>\n",
       "    <tr>\n",
       "      <th>90207</th>\n",
       "      <td>22/02/2024 9:42</td>\n",
       "      <td>27.340340</td>\n",
       "      <td>91.5</td>\n",
       "      <td>31.33</td>\n",
       "      <td>14.0</td>\n",
       "    </tr>\n",
       "    <tr>\n",
       "      <th>90208</th>\n",
       "      <td>22/02/2024 9:43</td>\n",
       "      <td>27.341790</td>\n",
       "      <td>91.1</td>\n",
       "      <td>31.35</td>\n",
       "      <td>15.0</td>\n",
       "    </tr>\n",
       "    <tr>\n",
       "      <th>90209</th>\n",
       "      <td>22/02/2024 9:44</td>\n",
       "      <td>27.313970</td>\n",
       "      <td>90.9</td>\n",
       "      <td>31.41</td>\n",
       "      <td>17.0</td>\n",
       "    </tr>\n",
       "    <tr>\n",
       "      <th>90210</th>\n",
       "      <td>22/02/2024 9:45</td>\n",
       "      <td>27.376200</td>\n",
       "      <td>90.8</td>\n",
       "      <td>31.43</td>\n",
       "      <td>17.0</td>\n",
       "    </tr>\n",
       "    <tr>\n",
       "      <th>90211</th>\n",
       "      <td>22/02/2024 9:46</td>\n",
       "      <td>27.156200</td>\n",
       "      <td>90.6</td>\n",
       "      <td>31.49</td>\n",
       "      <td>17.0</td>\n",
       "    </tr>\n",
       "  </tbody>\n",
       "</table>\n",
       "<p>90212 rows × 5 columns</p>\n",
       "</div>"
      ],
      "text/plain": [
       "               DataDate  pm2_5_Ref    hum   temp  pm2_5\n",
       "0      01/10/2023 17:54   7.276371  100.5  26.80    4.0\n",
       "1      01/10/2023 17:55   7.128142  100.5  26.79    4.0\n",
       "2      01/10/2023 17:56   7.118874  100.5  26.79    4.0\n",
       "3      01/10/2023 17:57   7.077153  100.5  26.79    2.0\n",
       "4      01/10/2023 17:58   7.055617  100.5  26.77    4.0\n",
       "...                 ...        ...    ...    ...    ...\n",
       "90207   22/02/2024 9:42  27.340340   91.5  31.33   14.0\n",
       "90208   22/02/2024 9:43  27.341790   91.1  31.35   15.0\n",
       "90209   22/02/2024 9:44  27.313970   90.9  31.41   17.0\n",
       "90210   22/02/2024 9:45  27.376200   90.8  31.43   17.0\n",
       "90211   22/02/2024 9:46  27.156200   90.6  31.49   17.0\n",
       "\n",
       "[90212 rows x 5 columns]"
      ]
     },
     "execution_count": 3,
     "metadata": {},
     "output_type": "execute_result"
    }
   ],
   "source": [
    "df1 = pd.read_csv('assets/merged_data_teledyne_and_ENE00960_R.csv', parse_dates=[\"DataDate\"])\n",
    "df1"
   ]
  },
  {
   "cell_type": "code",
   "execution_count": 4,
   "metadata": {},
   "outputs": [
    {
     "data": {
      "text/plain": [
       "DataDate     0\n",
       "pm2_5_Ref    0\n",
       "hum          0\n",
       "temp         0\n",
       "pm2_5        0\n",
       "dtype: int64"
      ]
     },
     "execution_count": 4,
     "metadata": {},
     "output_type": "execute_result"
    }
   ],
   "source": [
    "df1.isnull().sum()"
   ]
  },
  {
   "cell_type": "code",
   "execution_count": 5,
   "metadata": {},
   "outputs": [
    {
     "data": {
      "text/html": [
       "<div>\n",
       "<style scoped>\n",
       "    .dataframe tbody tr th:only-of-type {\n",
       "        vertical-align: middle;\n",
       "    }\n",
       "\n",
       "    .dataframe tbody tr th {\n",
       "        vertical-align: top;\n",
       "    }\n",
       "\n",
       "    .dataframe thead th {\n",
       "        text-align: right;\n",
       "    }\n",
       "</style>\n",
       "<table border=\"1\" class=\"dataframe\">\n",
       "  <thead>\n",
       "    <tr style=\"text-align: right;\">\n",
       "      <th></th>\n",
       "      <th>pm2_5_Ref</th>\n",
       "      <th>hum</th>\n",
       "      <th>temp</th>\n",
       "      <th>pm2_5</th>\n",
       "    </tr>\n",
       "  </thead>\n",
       "  <tbody>\n",
       "    <tr>\n",
       "      <th>0</th>\n",
       "      <td>7.276371</td>\n",
       "      <td>100.5</td>\n",
       "      <td>26.80</td>\n",
       "      <td>4.0</td>\n",
       "    </tr>\n",
       "    <tr>\n",
       "      <th>1</th>\n",
       "      <td>7.128142</td>\n",
       "      <td>100.5</td>\n",
       "      <td>26.79</td>\n",
       "      <td>4.0</td>\n",
       "    </tr>\n",
       "    <tr>\n",
       "      <th>2</th>\n",
       "      <td>7.118874</td>\n",
       "      <td>100.5</td>\n",
       "      <td>26.79</td>\n",
       "      <td>4.0</td>\n",
       "    </tr>\n",
       "    <tr>\n",
       "      <th>3</th>\n",
       "      <td>7.077153</td>\n",
       "      <td>100.5</td>\n",
       "      <td>26.79</td>\n",
       "      <td>2.0</td>\n",
       "    </tr>\n",
       "    <tr>\n",
       "      <th>4</th>\n",
       "      <td>7.055617</td>\n",
       "      <td>100.5</td>\n",
       "      <td>26.77</td>\n",
       "      <td>4.0</td>\n",
       "    </tr>\n",
       "    <tr>\n",
       "      <th>...</th>\n",
       "      <td>...</td>\n",
       "      <td>...</td>\n",
       "      <td>...</td>\n",
       "      <td>...</td>\n",
       "    </tr>\n",
       "    <tr>\n",
       "      <th>90207</th>\n",
       "      <td>27.340340</td>\n",
       "      <td>91.5</td>\n",
       "      <td>31.33</td>\n",
       "      <td>14.0</td>\n",
       "    </tr>\n",
       "    <tr>\n",
       "      <th>90208</th>\n",
       "      <td>27.341790</td>\n",
       "      <td>91.1</td>\n",
       "      <td>31.35</td>\n",
       "      <td>15.0</td>\n",
       "    </tr>\n",
       "    <tr>\n",
       "      <th>90209</th>\n",
       "      <td>27.313970</td>\n",
       "      <td>90.9</td>\n",
       "      <td>31.41</td>\n",
       "      <td>17.0</td>\n",
       "    </tr>\n",
       "    <tr>\n",
       "      <th>90210</th>\n",
       "      <td>27.376200</td>\n",
       "      <td>90.8</td>\n",
       "      <td>31.43</td>\n",
       "      <td>17.0</td>\n",
       "    </tr>\n",
       "    <tr>\n",
       "      <th>90211</th>\n",
       "      <td>27.156200</td>\n",
       "      <td>90.6</td>\n",
       "      <td>31.49</td>\n",
       "      <td>17.0</td>\n",
       "    </tr>\n",
       "  </tbody>\n",
       "</table>\n",
       "<p>90212 rows × 4 columns</p>\n",
       "</div>"
      ],
      "text/plain": [
       "       pm2_5_Ref    hum   temp  pm2_5\n",
       "0       7.276371  100.5  26.80    4.0\n",
       "1       7.128142  100.5  26.79    4.0\n",
       "2       7.118874  100.5  26.79    4.0\n",
       "3       7.077153  100.5  26.79    2.0\n",
       "4       7.055617  100.5  26.77    4.0\n",
       "...          ...    ...    ...    ...\n",
       "90207  27.340340   91.5  31.33   14.0\n",
       "90208  27.341790   91.1  31.35   15.0\n",
       "90209  27.313970   90.9  31.41   17.0\n",
       "90210  27.376200   90.8  31.43   17.0\n",
       "90211  27.156200   90.6  31.49   17.0\n",
       "\n",
       "[90212 rows x 4 columns]"
      ]
     },
     "execution_count": 5,
     "metadata": {},
     "output_type": "execute_result"
    }
   ],
   "source": [
    "filtered_df1 = df1[[\"pm2_5_Ref\",\"hum\", \"temp\", \"pm2_5\"]]\n",
    "filtered_df1\n",
    "# df1 = df1[[\"PM2.5_Ref\", \"PM2_5_LCS\"]]"
   ]
  },
  {
   "cell_type": "code",
   "execution_count": 7,
   "metadata": {},
   "outputs": [
    {
     "data": {
      "text/html": [
       "<style type=\"text/css\">\n",
       "#T_4b232_row8_col1 {\n",
       "  background-color: lightgreen;\n",
       "}\n",
       "</style>\n",
       "<table id=\"T_4b232\">\n",
       "  <thead>\n",
       "    <tr>\n",
       "      <th class=\"blank level0\" >&nbsp;</th>\n",
       "      <th id=\"T_4b232_level0_col0\" class=\"col_heading level0 col0\" >Description</th>\n",
       "      <th id=\"T_4b232_level0_col1\" class=\"col_heading level0 col1\" >Value</th>\n",
       "    </tr>\n",
       "  </thead>\n",
       "  <tbody>\n",
       "    <tr>\n",
       "      <th id=\"T_4b232_level0_row0\" class=\"row_heading level0 row0\" >0</th>\n",
       "      <td id=\"T_4b232_row0_col0\" class=\"data row0 col0\" >Session id</td>\n",
       "      <td id=\"T_4b232_row0_col1\" class=\"data row0 col1\" >123</td>\n",
       "    </tr>\n",
       "    <tr>\n",
       "      <th id=\"T_4b232_level0_row1\" class=\"row_heading level0 row1\" >1</th>\n",
       "      <td id=\"T_4b232_row1_col0\" class=\"data row1 col0\" >Target</td>\n",
       "      <td id=\"T_4b232_row1_col1\" class=\"data row1 col1\" >pm2_5_Ref</td>\n",
       "    </tr>\n",
       "    <tr>\n",
       "      <th id=\"T_4b232_level0_row2\" class=\"row_heading level0 row2\" >2</th>\n",
       "      <td id=\"T_4b232_row2_col0\" class=\"data row2 col0\" >Target type</td>\n",
       "      <td id=\"T_4b232_row2_col1\" class=\"data row2 col1\" >Regression</td>\n",
       "    </tr>\n",
       "    <tr>\n",
       "      <th id=\"T_4b232_level0_row3\" class=\"row_heading level0 row3\" >3</th>\n",
       "      <td id=\"T_4b232_row3_col0\" class=\"data row3 col0\" >Original data shape</td>\n",
       "      <td id=\"T_4b232_row3_col1\" class=\"data row3 col1\" >(90212, 4)</td>\n",
       "    </tr>\n",
       "    <tr>\n",
       "      <th id=\"T_4b232_level0_row4\" class=\"row_heading level0 row4\" >4</th>\n",
       "      <td id=\"T_4b232_row4_col0\" class=\"data row4 col0\" >Transformed data shape</td>\n",
       "      <td id=\"T_4b232_row4_col1\" class=\"data row4 col1\" >(90212, 4)</td>\n",
       "    </tr>\n",
       "    <tr>\n",
       "      <th id=\"T_4b232_level0_row5\" class=\"row_heading level0 row5\" >5</th>\n",
       "      <td id=\"T_4b232_row5_col0\" class=\"data row5 col0\" >Transformed train set shape</td>\n",
       "      <td id=\"T_4b232_row5_col1\" class=\"data row5 col1\" >(63148, 4)</td>\n",
       "    </tr>\n",
       "    <tr>\n",
       "      <th id=\"T_4b232_level0_row6\" class=\"row_heading level0 row6\" >6</th>\n",
       "      <td id=\"T_4b232_row6_col0\" class=\"data row6 col0\" >Transformed test set shape</td>\n",
       "      <td id=\"T_4b232_row6_col1\" class=\"data row6 col1\" >(27064, 4)</td>\n",
       "    </tr>\n",
       "    <tr>\n",
       "      <th id=\"T_4b232_level0_row7\" class=\"row_heading level0 row7\" >7</th>\n",
       "      <td id=\"T_4b232_row7_col0\" class=\"data row7 col0\" >Numeric features</td>\n",
       "      <td id=\"T_4b232_row7_col1\" class=\"data row7 col1\" >3</td>\n",
       "    </tr>\n",
       "    <tr>\n",
       "      <th id=\"T_4b232_level0_row8\" class=\"row_heading level0 row8\" >8</th>\n",
       "      <td id=\"T_4b232_row8_col0\" class=\"data row8 col0\" >Preprocess</td>\n",
       "      <td id=\"T_4b232_row8_col1\" class=\"data row8 col1\" >True</td>\n",
       "    </tr>\n",
       "    <tr>\n",
       "      <th id=\"T_4b232_level0_row9\" class=\"row_heading level0 row9\" >9</th>\n",
       "      <td id=\"T_4b232_row9_col0\" class=\"data row9 col0\" >Imputation type</td>\n",
       "      <td id=\"T_4b232_row9_col1\" class=\"data row9 col1\" >simple</td>\n",
       "    </tr>\n",
       "    <tr>\n",
       "      <th id=\"T_4b232_level0_row10\" class=\"row_heading level0 row10\" >10</th>\n",
       "      <td id=\"T_4b232_row10_col0\" class=\"data row10 col0\" >Numeric imputation</td>\n",
       "      <td id=\"T_4b232_row10_col1\" class=\"data row10 col1\" >mean</td>\n",
       "    </tr>\n",
       "    <tr>\n",
       "      <th id=\"T_4b232_level0_row11\" class=\"row_heading level0 row11\" >11</th>\n",
       "      <td id=\"T_4b232_row11_col0\" class=\"data row11 col0\" >Categorical imputation</td>\n",
       "      <td id=\"T_4b232_row11_col1\" class=\"data row11 col1\" >mode</td>\n",
       "    </tr>\n",
       "    <tr>\n",
       "      <th id=\"T_4b232_level0_row12\" class=\"row_heading level0 row12\" >12</th>\n",
       "      <td id=\"T_4b232_row12_col0\" class=\"data row12 col0\" >Fold Generator</td>\n",
       "      <td id=\"T_4b232_row12_col1\" class=\"data row12 col1\" >KFold</td>\n",
       "    </tr>\n",
       "    <tr>\n",
       "      <th id=\"T_4b232_level0_row13\" class=\"row_heading level0 row13\" >13</th>\n",
       "      <td id=\"T_4b232_row13_col0\" class=\"data row13 col0\" >Fold Number</td>\n",
       "      <td id=\"T_4b232_row13_col1\" class=\"data row13 col1\" >10</td>\n",
       "    </tr>\n",
       "    <tr>\n",
       "      <th id=\"T_4b232_level0_row14\" class=\"row_heading level0 row14\" >14</th>\n",
       "      <td id=\"T_4b232_row14_col0\" class=\"data row14 col0\" >CPU Jobs</td>\n",
       "      <td id=\"T_4b232_row14_col1\" class=\"data row14 col1\" >-1</td>\n",
       "    </tr>\n",
       "    <tr>\n",
       "      <th id=\"T_4b232_level0_row15\" class=\"row_heading level0 row15\" >15</th>\n",
       "      <td id=\"T_4b232_row15_col0\" class=\"data row15 col0\" >Use GPU</td>\n",
       "      <td id=\"T_4b232_row15_col1\" class=\"data row15 col1\" >False</td>\n",
       "    </tr>\n",
       "    <tr>\n",
       "      <th id=\"T_4b232_level0_row16\" class=\"row_heading level0 row16\" >16</th>\n",
       "      <td id=\"T_4b232_row16_col0\" class=\"data row16 col0\" >Log Experiment</td>\n",
       "      <td id=\"T_4b232_row16_col1\" class=\"data row16 col1\" >False</td>\n",
       "    </tr>\n",
       "    <tr>\n",
       "      <th id=\"T_4b232_level0_row17\" class=\"row_heading level0 row17\" >17</th>\n",
       "      <td id=\"T_4b232_row17_col0\" class=\"data row17 col0\" >Experiment Name</td>\n",
       "      <td id=\"T_4b232_row17_col1\" class=\"data row17 col1\" >reg-default-name</td>\n",
       "    </tr>\n",
       "    <tr>\n",
       "      <th id=\"T_4b232_level0_row18\" class=\"row_heading level0 row18\" >18</th>\n",
       "      <td id=\"T_4b232_row18_col0\" class=\"data row18 col0\" >USI</td>\n",
       "      <td id=\"T_4b232_row18_col1\" class=\"data row18 col1\" >5faa</td>\n",
       "    </tr>\n",
       "  </tbody>\n",
       "</table>\n"
      ],
      "text/plain": [
       "<pandas.io.formats.style.Styler at 0x2de172e17c0>"
      ]
     },
     "metadata": {},
     "output_type": "display_data"
    }
   ],
   "source": [
    "s = setup(filtered_df1, target = 'pm2_5_Ref', session_id = 123)"
   ]
  },
  {
   "cell_type": "code",
   "execution_count": 10,
   "metadata": {},
   "outputs": [
    {
     "data": {
      "text/html": [],
      "text/plain": [
       "<IPython.core.display.HTML object>"
      ]
     },
     "metadata": {},
     "output_type": "display_data"
    },
    {
     "data": {
      "text/html": [],
      "text/plain": [
       "<IPython.core.display.HTML object>"
      ]
     },
     "metadata": {},
     "output_type": "display_data"
    },
    {
     "data": {
      "text/html": [],
      "text/plain": [
       "<IPython.core.display.HTML object>"
      ]
     },
     "metadata": {},
     "output_type": "display_data"
    }
   ],
   "source": [
    "# compare baseline models\n",
    "best1 = compare_models()"
   ]
  },
  {
   "cell_type": "code",
   "execution_count": 11,
   "metadata": {},
   "outputs": [
    {
     "data": {
      "text/html": [
       "<style type=\"text/css\">\n",
       "</style>\n",
       "<table id=\"T_0973c\">\n",
       "  <thead>\n",
       "    <tr>\n",
       "      <th class=\"blank level0\" >&nbsp;</th>\n",
       "      <th id=\"T_0973c_level0_col0\" class=\"col_heading level0 col0\" >Model</th>\n",
       "      <th id=\"T_0973c_level0_col1\" class=\"col_heading level0 col1\" >MAE</th>\n",
       "      <th id=\"T_0973c_level0_col2\" class=\"col_heading level0 col2\" >MSE</th>\n",
       "      <th id=\"T_0973c_level0_col3\" class=\"col_heading level0 col3\" >RMSE</th>\n",
       "      <th id=\"T_0973c_level0_col4\" class=\"col_heading level0 col4\" >R2</th>\n",
       "      <th id=\"T_0973c_level0_col5\" class=\"col_heading level0 col5\" >RMSLE</th>\n",
       "      <th id=\"T_0973c_level0_col6\" class=\"col_heading level0 col6\" >MAPE</th>\n",
       "    </tr>\n",
       "  </thead>\n",
       "  <tbody>\n",
       "    <tr>\n",
       "      <th id=\"T_0973c_level0_row0\" class=\"row_heading level0 row0\" >0</th>\n",
       "      <td id=\"T_0973c_row0_col0\" class=\"data row0 col0\" >Random Forest Regressor</td>\n",
       "      <td id=\"T_0973c_row0_col1\" class=\"data row0 col1\" >6.8907</td>\n",
       "      <td id=\"T_0973c_row0_col2\" class=\"data row0 col2\" >149.4852</td>\n",
       "      <td id=\"T_0973c_row0_col3\" class=\"data row0 col3\" >12.2264</td>\n",
       "      <td id=\"T_0973c_row0_col4\" class=\"data row0 col4\" >0.9572</td>\n",
       "      <td id=\"T_0973c_row0_col5\" class=\"data row0 col5\" >0.3296</td>\n",
       "      <td id=\"T_0973c_row0_col6\" class=\"data row0 col6\" >0.2698</td>\n",
       "    </tr>\n",
       "  </tbody>\n",
       "</table>\n"
      ],
      "text/plain": [
       "<pandas.io.formats.style.Styler at 0x2de17dfa070>"
      ]
     },
     "metadata": {},
     "output_type": "display_data"
    }
   ],
   "source": [
    "# predict on test set\n",
    "holdout_pred1 = predict_model(best1)"
   ]
  },
  {
   "cell_type": "code",
   "execution_count": 12,
   "metadata": {},
   "outputs": [
    {
     "name": "stdout",
     "output_type": "stream",
     "text": [
      "Transformation Pipeline and Model Successfully Saved\n"
     ]
    },
    {
     "data": {
      "text/plain": [
       "(Pipeline(memory=Memory(location=None),\n",
       "          steps=[('numerical_imputer',\n",
       "                  TransformerWrapper(include=['hum', 'temp', 'pm2_5'],\n",
       "                                     transformer=SimpleImputer())),\n",
       "                 ('categorical_imputer',\n",
       "                  TransformerWrapper(include=[],\n",
       "                                     transformer=SimpleImputer(strategy='most_frequent'))),\n",
       "                 ('trained_model',\n",
       "                  RandomForestRegressor(n_jobs=-1, random_state=123))]),\n",
       " 'assets/correction_factor_random_forest_sensor960-25-April-2024.pkl')"
      ]
     },
     "execution_count": 12,
     "metadata": {},
     "output_type": "execute_result"
    }
   ],
   "source": [
    "save_model(best1, 'assets/correction_factor_random_forest_sensor960-25-April-2024')"
   ]
  },
  {
   "cell_type": "code",
   "execution_count": 14,
   "metadata": {},
   "outputs": [],
   "source": [
    "import pickle\n",
    "import gzip\n",
    "\n",
    "def compress_pickle_gzip(file_path, data):\n",
    "    with gzip.open(file_path, 'wb') as f:\n",
    "        pickle.dump(data, f)\n",
    "\n",
    "# Usage\n",
    "model = 'assets/correction_factor_random_forest_sensor960-25-April-2024.pkl'  # This should be your loaded model\n",
    "file_path = 'assets/model.pkl.gz'  \n",
    "compress_pickle_gzip(file_path, model)\n"
   ]
  },
  {
   "cell_type": "code",
   "execution_count": null,
   "metadata": {},
   "outputs": [],
   "source": [
    "[\n",
    "    {\n",
    "        \"hum\": 100.4,\n",
    "        \"temp\": 26,\n",
    "        \"pm2_5\": 5\n",
    "    },\n",
    "    {\n",
    "        \"hum\": 100.4,\n",
    "        \"temp\": 26.02,\n",
    "        \"pm2_5\": 5\n",
    "    },\n",
    "     {\n",
    "        \"hum\": 100.4,\n",
    "        \"temp\": 25.24,\n",
    "        \"pm2_5\": 4\n",
    "    }\n",
    "]"
   ]
  },
  {
   "cell_type": "code",
   "execution_count": null,
   "metadata": {},
   "outputs": [],
   "source": [
    "{\n",
    "    \"pm2_5\": 8.390000,\n",
    "    \"pm10\": 3.0,\n",
    "    \"sox\": 24.56,\n",
    "    \"nox\": 53.62,\n",
    "    \"temp\": 20.7,\n",
    "    \"hum\": 75.0,\n",
    "    \"ts_client\": \"2024-05-22 18:12:12\",\n",
    "    \"id\": \"ENE02516\"\n",
    "}"
   ]
  },
  {
   "cell_type": "code",
   "execution_count": null,
   "metadata": {},
   "outputs": [],
   "source": [
    "[{\n",
    "    \"pm2_5\": 8.390000,\n",
    "    \"pm10\": 3.0,\n",
    "    \"sox\": 24.56,\n",
    "    \"nox\": 53.62,\n",
    "    \"temp\": 20.7,\n",
    "    \"hum\": 75.0,\n",
    "    \"ts_client\": \"2024-05-22 18:12:12\",\n",
    "    \"id\": \"ENE02516\"\n",
    "},\n",
    "{\n",
    "    \"pm2_5\": 9.390000,\n",
    "    \"pm10\": 5.0,\n",
    "    \"sox\": 24.56,\n",
    "    \"nox\": 53.62,\n",
    "    \"temp\": 30.7,\n",
    "    \"hum\": 80.0,\n",
    "    \"ts_client\": \"2024-05-22 18:12:12\",\n",
    "    \"id\": \"ENE02516\"\n",
    "}]"
   ]
  },
  {
   "cell_type": "code",
   "execution_count": 2,
   "metadata": {},
   "outputs": [],
   "source": [
    "import boto3 \n",
    "import pandas as pd"
   ]
  },
  {
   "cell_type": "code",
   "execution_count": 5,
   "metadata": {},
   "outputs": [],
   "source": [
    "s3 = boto3.client('s3')\n",
    "s3_bucket_name = 'low-cost-air-sensor-calibration-engine'\n",
    "s3_key = 'assets/model_pm2_5.pkl.gz'\n",
    "# s3.upload_file('assets/data_ENE00933_R.csv', s3_bucket_name, s3_key)\n"
   ]
  },
  {
   "cell_type": "code",
   "execution_count": 8,
   "metadata": {},
   "outputs": [],
   "source": [
    "s3.download_file(s3_bucket_name, s3_key, 'model_pm2_5.pkl.gz')\n"
   ]
  }
 ],
 "metadata": {
  "kernelspec": {
   "display_name": "pycaret-flask-env",
   "language": "python",
   "name": "python3"
  },
  "language_info": {
   "codemirror_mode": {
    "name": "ipython",
    "version": 3
   },
   "file_extension": ".py",
   "mimetype": "text/x-python",
   "name": "python",
   "nbconvert_exporter": "python",
   "pygments_lexer": "ipython3",
   "version": "3.9.19"
  }
 },
 "nbformat": 4,
 "nbformat_minor": 2
}
